{
 "cells": [
  {
   "cell_type": "code",
   "execution_count": 1,
   "id": "15616a64-515c-4ac4-9515-efa4a9f7f243",
   "metadata": {},
   "outputs": [],
   "source": [
    "import mysql.connector\n",
    "import pandas as pd\n",
    "from smtplib import SMTP\n",
    "from email.mime.multipart import MIMEMultipart\n",
    "from email.mime.base import MIMEBase\n",
    "from email import encoders\n",
    "import os"
   ]
  },
  {
   "cell_type": "code",
   "execution_count": 2,
   "id": "7142fd96-f71e-424f-b3b2-956ba2619cbf",
   "metadata": {},
   "outputs": [],
   "source": [
    "db = mysql.connector.connect(\n",
    "    host=\"127.0.0.1\",\n",
    "    user=\"root\",\n",
    "    password=\"root\",\n",
    "    database=\"gdb0041\"\n",
    ")"
   ]
  },
  {
   "cell_type": "code",
   "execution_count": 3,
   "id": "b126a2b4-ac87-4a0f-ae20-5bc6d6a0df3a",
   "metadata": {},
   "outputs": [
    {
     "data": {
      "text/plain": [
       "(2021, 10)"
      ]
     },
     "execution_count": 3,
     "metadata": {},
     "output_type": "execute_result"
    }
   ],
   "source": [
    "cursor = db.cursor()\n",
    "cursor.callproc('top_n_customer_by_net_sales',args=(2021,10))"
   ]
  },
  {
   "cell_type": "code",
   "execution_count": 4,
   "id": "c10b3228-0c6f-4aeb-980e-3c484dd90780",
   "metadata": {},
   "outputs": [],
   "source": [
    "for result in cursor.stored_results():\n",
    "    data = result.fetchall()"
   ]
  },
  {
   "cell_type": "code",
   "execution_count": 5,
   "id": "e1916c4f-f6b2-4ef8-9430-339fadf00548",
   "metadata": {},
   "outputs": [],
   "source": [
    "df = pd.DataFrame(data, columns=[i[0] for i in cursor.description])\n"
   ]
  },
  {
   "cell_type": "code",
   "execution_count": 6,
   "id": "16f31c8f-3a2b-45fb-a382-f302dfb2b7d4",
   "metadata": {},
   "outputs": [],
   "source": [
    "# Specify a different path where you have write permissions, such as your home directory\n",
    "reports_dir = os.path.expanduser('~/Reports')\n",
    "if not os.path.exists(reports_dir):\n",
    "    os.makedirs(reports_dir)\n"
   ]
  },
  {
   "cell_type": "code",
   "execution_count": 7,
   "id": "bd8a8113-c594-4a52-ab47-f7c3e7fa68e0",
   "metadata": {},
   "outputs": [
    {
     "name": "stdout",
     "output_type": "stream",
     "text": [
      "Excel file saved successfully at C:\\Users\\Sumit Rawat/Reports\\report.xlsx\n"
     ]
    }
   ],
   "source": [
    "file_path = os.path.join(reports_dir, 'report.xlsx')\n",
    "df.to_excel(file_path+'report.xlsx', index=False)\n",
    "try:\n",
    "    df.to_excel(file_path, index=False)\n",
    "    print(f\"Excel file saved successfully at {file_path}\")\n",
    "except Exception as e:\n",
    "    print(f\"Failed to save Excel file: {e}\")\n",
    "    exit()\n"
   ]
  },
  {
   "cell_type": "code",
   "execution_count": 8,
   "id": "8bc1a694-0db1-4d7c-bcee-fee95cad669c",
   "metadata": {},
   "outputs": [
    {
     "name": "stdout",
     "output_type": "stream",
     "text": [
      "Email sent successfully.\n"
     ]
    }
   ],
   "source": [
    "# Email credentials\n",
    "email_user = 's******@gmail.com'\n",
    "email_password = '**********'\n",
    "email_send = 'r******@gmail.com'\n",
    "\n",
    "subject = 'MySQL Report'\n",
    "\n",
    "msg = MIMEMultipart()\n",
    "msg['From'] = email_user\n",
    "msg['To'] = email_send\n",
    "msg['Subject'] = subject\n",
    "\n",
    "try:\n",
    "    with open(file_path, 'rb') as attachment:\n",
    "        part = MIMEBase('application', 'octet-stream')\n",
    "        part.set_payload(attachment.read())\n",
    "        encoders.encode_base64(part)\n",
    "        part.add_header('Content-Disposition', 'attachment; filename=\"report.xlsx\"')\n",
    "        msg.attach(part)\n",
    "except Exception as e:\n",
    "    print(f\"Failed to read Excel file: {e}\")\n",
    "    exit()\n",
    "\n",
    "try:\n",
    "    server = SMTP('smtp.gmail.com', 587)\n",
    "    server.starttls()\n",
    "    server.login(email_user, email_password)\n",
    "    server.sendmail(email_user, email_send, msg.as_string())\n",
    "    server.quit()\n",
    "    print(\"Email sent successfully.\")\n",
    "except Exception as e:\n",
    "    print(f\"Failed to send email: {e}\")"
   ]
  },
  {
   "cell_type": "code",
   "execution_count": null,
   "id": "d0b88eef-1c04-4a9f-a7af-7ed1a219dc0b",
   "metadata": {},
   "outputs": [],
   "source": []
  }
 ],
 "metadata": {
  "kernelspec": {
   "display_name": "Python 3 (ipykernel)",
   "language": "python",
   "name": "python3"
  },
  "language_info": {
   "codemirror_mode": {
    "name": "ipython",
    "version": 3
   },
   "file_extension": ".py",
   "mimetype": "text/x-python",
   "name": "python",
   "nbconvert_exporter": "python",
   "pygments_lexer": "ipython3",
   "version": "3.11.5"
  }
 },
 "nbformat": 4,
 "nbformat_minor": 5
}
